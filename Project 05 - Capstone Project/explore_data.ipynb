{
 "cells": [
  {
   "cell_type": "code",
   "execution_count": 1,
   "metadata": {
    "editable": true
   },
   "outputs": [],
   "source": [
    "import pandas as pd\n",
    "import configparser\n",
    "from datetime import datetime\n",
    "import os\n",
    "import numpy as np\n",
    "from pyspark.sql.functions import sum,avg,max,min,mean,count\n",
    "from schemas import dict_schemas, dict_numeric_columns\n",
    "from pyspark.sql import SparkSession\n",
    "from pyspark.sql import Window\n",
    "from pyspark.sql.functions import udf, col, to_date, date_format\n",
    "from pyspark.sql.functions import year, month, dayofmonth, hour, weekofyear, dayofweek, monotonically_increasing_id\n",
    "from pyspark.sql.types import StructType as R, StructField as Fld, DoubleType as Dbl,StringType as Str, IntegerType as Int, DateType as Date, TimestampType as TS"
   ]
  },
  {
   "cell_type": "code",
   "execution_count": 2,
   "metadata": {
    "editable": true
   },
   "outputs": [],
   "source": [
    "def create_spark_session():\n",
    "    \"\"\" \n",
    "    Create and return a Spark Session \n",
    "    \"\"\"\n",
    "    \n",
    "    spark = SparkSession \\\n",
    "        .builder \\\n",
    "        .config(\"spark.jars.packages\", \"org.apache.hadoop:hadoop-aws:2.7.0\") \\\n",
    "        .getOrCreate()\n",
    "    \n",
    "    return spark"
   ]
  },
  {
   "cell_type": "code",
   "execution_count": 3,
   "metadata": {
    "editable": true
   },
   "outputs": [],
   "source": [
    "spark = create_spark_session()"
   ]
  },
  {
   "cell_type": "code",
   "execution_count": 4,
   "metadata": {
    "editable": true
   },
   "outputs": [],
   "source": [
    "csv_tables = ['champs', 'maps', 'matches', 'participants', 'queues', 'seasons', 'stats', 'teambans', 'teamstats']"
   ]
  },
  {
   "cell_type": "code",
   "execution_count": 10,
   "metadata": {
    "editable": true
   },
   "outputs": [],
   "source": [
    "output_data = r'data_source/parquet_files'"
   ]
  },
  {
   "cell_type": "code",
   "execution_count": 6,
   "metadata": {
    "editable": true
   },
   "outputs": [],
   "source": [
    "def check_rows_csv_to_parquet(csv_df, output_data, table, csv_rows):\n",
    "    \n",
    "    pqt = spark.read.parquet(f\"{output_data}/{table}\")\n",
    "    \n",
    "    pqt_rows = pqt.count()\n",
    "        \n",
    "    if pqt_rows == csv_rows:\n",
    "        print( 'Ok !' )\n",
    "    else:\n",
    "        print( f'CSV has: {csv_rows} rows, while PQT has: {pqt_rows}' )"
   ]
  },
  {
   "cell_type": "code",
   "execution_count": 9,
   "metadata": {
    "editable": true
   },
   "outputs": [
    {
     "name": "stdout",
     "output_type": "stream",
     "text": [
      "path: Riot Matches/champs.csv\n",
      "Ok !\n",
      "champs load success\n",
      "path: Riot Matches/maps.csv\n",
      "Ok !\n",
      "maps load success\n",
      "path: Riot Matches/matches.csv\n",
      "Ok !\n",
      "matches load success\n",
      "path: Riot Matches/participants.csv\n",
      "Ok !\n",
      "participants load success\n",
      "path: Riot Matches/queues.csv\n",
      "Ok !\n",
      "queues load success\n",
      "path: Riot Matches/seasons.csv\n",
      "Ok !\n",
      "seasons load success\n",
      "path: Riot Matches/stats.csv\n",
      "Ok !\n",
      "stats load success\n",
      "path: Riot Matches/teambans.csv\n",
      "Ok !\n",
      "teambans load success\n",
      "path: Riot Matches/teamstats.csv\n",
      "Ok !\n",
      "teamstats load success\n"
     ]
    }
   ],
   "source": [
    "for table in csv_tables:\n",
    "    \n",
    "    input_data_csv = r'Riot Matches/{}.csv'.format(table)\n",
    "    print(f\"path: {input_data_csv}\")\n",
    "    \n",
    "    spark_df = spark.read.options(header='true').csv(input_data_csv, schema = dict_schemas[table])\n",
    "    \n",
    "    csv_rows = spark_df.count()\n",
    "#     spark_df = pd.read_csv(input_data_csv)\n",
    "\n",
    "#     spark_df = treat_numeric_cols(spark_df, table)\n",
    "    \n",
    "#     spark_df = spark.createDataFrame(spark_df, schema = dict_schemas[table])\n",
    "    \n",
    "    spark_df = spark_df.dropna(how = 'all')\n",
    "    \n",
    "    spark_df.write.parquet(f\"{output_data}/{table}\")\n",
    "    \n",
    "    check_rows_csv_to_parquet(spark_df, output_data, table, csv_rows)\n",
    "    \n",
    "    print(f\"{table} load success\")"
   ]
  },
  {
   "cell_type": "code",
   "execution_count": 53,
   "metadata": {
    "editable": true
   },
   "outputs": [],
   "source": [
    "stats = spark.read.parquet(f\"{output_data}/stats\")"
   ]
  },
  {
   "cell_type": "code",
   "execution_count": 55,
   "metadata": {
    "editable": true
   },
   "outputs": [
    {
     "name": "stdout",
     "output_type": "stream",
     "text": [
      "root\n",
      " |-- id: integer (nullable = true)\n",
      " |-- win: integer (nullable = true)\n",
      " |-- item1: integer (nullable = true)\n",
      " |-- item2: integer (nullable = true)\n",
      " |-- item3: integer (nullable = true)\n",
      " |-- item4: integer (nullable = true)\n",
      " |-- item5: integer (nullable = true)\n",
      " |-- item6: integer (nullable = true)\n",
      " |-- trinket: integer (nullable = true)\n",
      " |-- kills: integer (nullable = true)\n",
      " |-- deaths: integer (nullable = true)\n",
      " |-- assists: integer (nullable = true)\n",
      " |-- largestkillingspree: integer (nullable = true)\n",
      " |-- largestmultikill: integer (nullable = true)\n",
      " |-- killingsprees: integer (nullable = true)\n",
      " |-- longesttimespentliving: integer (nullable = true)\n",
      " |-- doublekills: integer (nullable = true)\n",
      " |-- triplekills: integer (nullable = true)\n",
      " |-- quadrakills: integer (nullable = true)\n",
      " |-- pentakills: integer (nullable = true)\n",
      " |-- legendarykills: integer (nullable = true)\n",
      " |-- totdmgdealt: integer (nullable = true)\n",
      " |-- magicdmgdealt: integer (nullable = true)\n",
      " |-- physicaldmgdealt: integer (nullable = true)\n",
      " |-- truedmgdealt: integer (nullable = true)\n",
      " |-- largestcrit: integer (nullable = true)\n",
      " |-- totdmgtochamp: integer (nullable = true)\n",
      " |-- magicdmgtochamp: integer (nullable = true)\n",
      " |-- physdmgtochamp: integer (nullable = true)\n",
      " |-- truedmgtochamp: integer (nullable = true)\n",
      " |-- totheal: integer (nullable = true)\n",
      " |-- totunitshealed: integer (nullable = true)\n",
      " |-- dmgselfmit: integer (nullable = true)\n",
      " |-- dmgtoobj: integer (nullable = true)\n",
      " |-- dmgtoturrets: integer (nullable = true)\n",
      " |-- visionscore: integer (nullable = true)\n",
      " |-- timecc: integer (nullable = true)\n",
      " |-- totdmgtaken: integer (nullable = true)\n",
      " |-- magicdmgtaken: integer (nullable = true)\n",
      " |-- physdmgtaken: integer (nullable = true)\n",
      " |-- truedmgtaken: integer (nullable = true)\n",
      " |-- goldearned: integer (nullable = true)\n",
      " |-- goldspent: integer (nullable = true)\n",
      " |-- turretkills: integer (nullable = true)\n",
      " |-- inhibkills: integer (nullable = true)\n",
      " |-- totminionskilled: integer (nullable = true)\n",
      " |-- neutralminionskilled: integer (nullable = true)\n",
      " |-- ownjunglekills: integer (nullable = true)\n",
      " |-- enemyjunglekills: integer (nullable = true)\n",
      " |-- totcctimedealt: integer (nullable = true)\n",
      " |-- champlvl: integer (nullable = true)\n",
      " |-- pinksbought: integer (nullable = true)\n",
      " |-- wardsbought: string (nullable = true)\n",
      " |-- wardsplaced: integer (nullable = true)\n",
      " |-- wardskilled: integer (nullable = true)\n",
      " |-- firstblood: integer (nullable = true)\n",
      "\n"
     ]
    }
   ],
   "source": [
    "stats.printSchema()"
   ]
  },
  {
   "cell_type": "code",
   "execution_count": 56,
   "metadata": {
    "editable": true
   },
   "outputs": [
    {
     "name": "stdout",
     "output_type": "stream",
     "text": [
      "root\n",
      " |-- name: string (nullable = true)\n",
      " |-- id: integer (nullable = true)\n",
      "\n"
     ]
    }
   ],
   "source": [
    "champs = spark.read.parquet(f\"{output_data}/champs\")\n",
    "\n",
    "champs.printSchema()"
   ]
  },
  {
   "cell_type": "code",
   "execution_count": 57,
   "metadata": {
    "editable": true
   },
   "outputs": [
    {
     "name": "stdout",
     "output_type": "stream",
     "text": [
      "root\n",
      " |-- id: integer (nullable = true)\n",
      " |-- matchid: integer (nullable = true)\n",
      " |-- player: integer (nullable = true)\n",
      " |-- championid: integer (nullable = true)\n",
      " |-- ss1: integer (nullable = true)\n",
      " |-- ss2: integer (nullable = true)\n",
      " |-- role: string (nullable = true)\n",
      " |-- position: string (nullable = true)\n",
      "\n"
     ]
    }
   ],
   "source": [
    "participants = spark.read.parquet(f\"{output_data}/participants\")\n",
    "\n",
    "participants.printSchema()"
   ]
  },
  {
   "cell_type": "code",
   "execution_count": 58,
   "metadata": {
    "editable": true
   },
   "outputs": [
    {
     "name": "stdout",
     "output_type": "stream",
     "text": [
      "root\n",
      " |-- id: integer (nullable = true)\n",
      " |-- gameid: string (nullable = true)\n",
      " |-- platformid: string (nullable = true)\n",
      " |-- queueid: integer (nullable = true)\n",
      " |-- seasonid: integer (nullable = true)\n",
      " |-- duration: double (nullable = true)\n",
      " |-- creation: double (nullable = true)\n",
      " |-- version: string (nullable = true)\n",
      "\n"
     ]
    }
   ],
   "source": [
    "matches = spark.read.parquet(f\"{output_data}/matches\")\n",
    "\n",
    "matches.printSchema()"
   ]
  },
  {
   "cell_type": "code",
   "execution_count": 15,
   "metadata": {
    "editable": true
   },
   "outputs": [
    {
     "data": {
      "text/plain": [
       "1834520"
      ]
     },
     "execution_count": 15,
     "metadata": {},
     "output_type": "execute_result"
    }
   ],
   "source": [
    "participants.count()"
   ]
  },
  {
   "cell_type": "code",
   "execution_count": 16,
   "metadata": {
    "editable": true
   },
   "outputs": [
    {
     "data": {
      "text/plain": [
       "1834517"
      ]
     },
     "execution_count": 16,
     "metadata": {},
     "output_type": "execute_result"
    }
   ],
   "source": [
    "stats.count()"
   ]
  },
  {
   "cell_type": "markdown",
   "metadata": {
    "editable": true
   },
   "source": [
    "# Creating Participants Stats per Match"
   ]
  },
  {
   "cell_type": "code",
   "execution_count": 17,
   "metadata": {
    "editable": true
   },
   "outputs": [],
   "source": [
    "participants = participants.withColumnRenamed(\"id\",\"participants_id\")"
   ]
  },
  {
   "cell_type": "code",
   "execution_count": 18,
   "metadata": {
    "editable": true
   },
   "outputs": [],
   "source": [
    "stats = stats.withColumnRenamed(\"id\",\"stats_id\")"
   ]
  },
  {
   "cell_type": "code",
   "execution_count": 19,
   "metadata": {
    "editable": true
   },
   "outputs": [],
   "source": [
    "champs = champs.withColumnRenamed(\"id\",\"champs_id\")"
   ]
  },
  {
   "cell_type": "code",
   "execution_count": 20,
   "metadata": {
    "editable": true
   },
   "outputs": [],
   "source": [
    "matches = matches.withColumnRenamed(\"id\",\"match_id\")"
   ]
  },
  {
   "cell_type": "code",
   "execution_count": 21,
   "metadata": {
    "editable": true
   },
   "outputs": [],
   "source": [
    "player_df = participants.join(stats, ([stats.stats_id == participants.participants_id]), \"left\")"
   ]
  },
  {
   "cell_type": "code",
   "execution_count": 22,
   "metadata": {
    "editable": true
   },
   "outputs": [],
   "source": [
    "player_df = player_df.join(champs, ([player_df.championid == champs.champs_id]), \"left\")"
   ]
  },
  {
   "cell_type": "code",
   "execution_count": 23,
   "metadata": {
    "editable": true
   },
   "outputs": [],
   "source": [
    "player_df = player_df.join(matches, ([player_df.matchid == matches.match_id]), \"left\")"
   ]
  },
  {
   "cell_type": "code",
   "execution_count": 24,
   "metadata": {
    "editable": true
   },
   "outputs": [],
   "source": [
    "def check_df_is_not_empty(df):\n",
    "    \n",
    "    if df.count() > 0:\n",
    "        print('Check OK !')\n",
    "    else:\n",
    "        raise ValueError('DataFrame empty after operation')"
   ]
  },
  {
   "cell_type": "code",
   "execution_count": 25,
   "metadata": {
    "editable": true
   },
   "outputs": [],
   "source": [
    "player_df = player_df.dropDuplicates()"
   ]
  },
  {
   "cell_type": "code",
   "execution_count": 26,
   "metadata": {
    "editable": true
   },
   "outputs": [
    {
     "name": "stdout",
     "output_type": "stream",
     "text": [
      "Check OK !\n"
     ]
    }
   ],
   "source": [
    "check_df_is_not_empty(player_df)"
   ]
  },
  {
   "cell_type": "code",
   "execution_count": 27,
   "metadata": {
    "editable": true
   },
   "outputs": [
    {
     "name": "stdout",
     "output_type": "stream",
     "text": [
      "+-----------------+\n",
      "|         creation|\n",
      "+-----------------+\n",
      "|1.494764416274E12|\n",
      "|1.493818672404E12|\n",
      "|1.493811885648E12|\n",
      "+-----------------+\n",
      "only showing top 3 rows\n",
      "\n"
     ]
    }
   ],
   "source": [
    "player_df.select('creation').show(3)"
   ]
  },
  {
   "cell_type": "code",
   "execution_count": 28,
   "metadata": {
    "editable": true
   },
   "outputs": [],
   "source": [
    "def create_time_columns(df, ts_col):\n",
    "    \n",
    "    get_timestamp = udf(lambda x: datetime.fromtimestamp(x / 1000), TS())\n",
    "\n",
    "    # create date column from original timestamp ts_col column\n",
    "    df = df.withColumn(\"create_match_date\", get_timestamp(col(ts_col)))\n",
    "    \n",
    "    # extract time detailed time columns\n",
    "    df = df.withColumn(\"create_match_hour\", hour(\"create_match_date\"))\n",
    "    df = df.withColumn(\"create_match_day\", dayofmonth(\"create_match_date\"))\n",
    "    df = df.withColumn(\"create_match_month\", month(\"create_match_date\"))\n",
    "    df = df.withColumn(\"create_match_year\", year(\"create_match_date\"))\n",
    "    \n",
    "    return df"
   ]
  },
  {
   "cell_type": "code",
   "execution_count": 29,
   "metadata": {
    "editable": true
   },
   "outputs": [],
   "source": [
    "player_df = create_time_columns(player_df, 'creation')"
   ]
  },
  {
   "cell_type": "code",
   "execution_count": 30,
   "metadata": {
    "editable": true
   },
   "outputs": [
    {
     "name": "stdout",
     "output_type": "stream",
     "text": [
      "root\n",
      " |-- participants_id: integer (nullable = true)\n",
      " |-- matchid: integer (nullable = true)\n",
      " |-- player: integer (nullable = true)\n",
      " |-- championid: integer (nullable = true)\n",
      " |-- ss1: integer (nullable = true)\n",
      " |-- ss2: integer (nullable = true)\n",
      " |-- role: string (nullable = true)\n",
      " |-- position: string (nullable = true)\n",
      " |-- stats_id: integer (nullable = true)\n",
      " |-- win: integer (nullable = true)\n",
      " |-- item1: integer (nullable = true)\n",
      " |-- item2: integer (nullable = true)\n",
      " |-- item3: integer (nullable = true)\n",
      " |-- item4: integer (nullable = true)\n",
      " |-- item5: integer (nullable = true)\n",
      " |-- item6: integer (nullable = true)\n",
      " |-- trinket: integer (nullable = true)\n",
      " |-- kills: integer (nullable = true)\n",
      " |-- deaths: integer (nullable = true)\n",
      " |-- assists: integer (nullable = true)\n",
      " |-- largestkillingspree: integer (nullable = true)\n",
      " |-- largestmultikill: integer (nullable = true)\n",
      " |-- killingsprees: integer (nullable = true)\n",
      " |-- longesttimespentliving: integer (nullable = true)\n",
      " |-- doublekills: integer (nullable = true)\n",
      " |-- triplekills: integer (nullable = true)\n",
      " |-- quadrakills: integer (nullable = true)\n",
      " |-- pentakills: integer (nullable = true)\n",
      " |-- legendarykills: integer (nullable = true)\n",
      " |-- totdmgdealt: integer (nullable = true)\n",
      " |-- magicdmgdealt: integer (nullable = true)\n",
      " |-- physicaldmgdealt: integer (nullable = true)\n",
      " |-- truedmgdealt: integer (nullable = true)\n",
      " |-- largestcrit: integer (nullable = true)\n",
      " |-- totdmgtochamp: integer (nullable = true)\n",
      " |-- magicdmgtochamp: integer (nullable = true)\n",
      " |-- physdmgtochamp: integer (nullable = true)\n",
      " |-- truedmgtochamp: integer (nullable = true)\n",
      " |-- totheal: integer (nullable = true)\n",
      " |-- totunitshealed: integer (nullable = true)\n",
      " |-- dmgselfmit: integer (nullable = true)\n",
      " |-- dmgtoobj: integer (nullable = true)\n",
      " |-- dmgtoturrets: integer (nullable = true)\n",
      " |-- visionscore: integer (nullable = true)\n",
      " |-- timecc: integer (nullable = true)\n",
      " |-- totdmgtaken: integer (nullable = true)\n",
      " |-- magicdmgtaken: integer (nullable = true)\n",
      " |-- physdmgtaken: integer (nullable = true)\n",
      " |-- truedmgtaken: integer (nullable = true)\n",
      " |-- goldearned: integer (nullable = true)\n",
      " |-- goldspent: integer (nullable = true)\n",
      " |-- turretkills: integer (nullable = true)\n",
      " |-- inhibkills: integer (nullable = true)\n",
      " |-- totminionskilled: integer (nullable = true)\n",
      " |-- neutralminionskilled: integer (nullable = true)\n",
      " |-- ownjunglekills: integer (nullable = true)\n",
      " |-- enemyjunglekills: integer (nullable = true)\n",
      " |-- totcctimedealt: integer (nullable = true)\n",
      " |-- champlvl: integer (nullable = true)\n",
      " |-- pinksbought: integer (nullable = true)\n",
      " |-- wardsbought: string (nullable = true)\n",
      " |-- wardsplaced: integer (nullable = true)\n",
      " |-- wardskilled: integer (nullable = true)\n",
      " |-- firstblood: integer (nullable = true)\n",
      " |-- name: string (nullable = true)\n",
      " |-- champs_id: integer (nullable = true)\n",
      " |-- match_id: integer (nullable = true)\n",
      " |-- gameid: string (nullable = true)\n",
      " |-- platformid: string (nullable = true)\n",
      " |-- queueid: integer (nullable = true)\n",
      " |-- seasonid: integer (nullable = true)\n",
      " |-- duration: double (nullable = true)\n",
      " |-- creation: double (nullable = true)\n",
      " |-- version: string (nullable = true)\n",
      " |-- create_match_date: timestamp (nullable = true)\n",
      " |-- create_match_hour: integer (nullable = true)\n",
      " |-- create_match_day: integer (nullable = true)\n",
      " |-- create_match_month: integer (nullable = true)\n",
      " |-- create_match_year: integer (nullable = true)\n",
      "\n"
     ]
    }
   ],
   "source": [
    "player_df.printSchema()"
   ]
  },
  {
   "cell_type": "code",
   "execution_count": 30,
   "metadata": {
    "editable": true
   },
   "outputs": [],
   "source": [
    "#player_df.write.partitionBy(\"create_match_year\", \"create_match_month\").parquet(f\"{output_data}/players_statistics_per_match/\")"
   ]
  },
  {
   "cell_type": "markdown",
   "metadata": {
    "editable": true
   },
   "source": [
    "# Creating Player Stats per Match"
   ]
  },
  {
   "cell_type": "code",
   "execution_count": 59,
   "metadata": {
    "editable": true
   },
   "outputs": [
    {
     "name": "stdout",
     "output_type": "stream",
     "text": [
      "root\n",
      " |-- matchid: integer (nullable = true)\n",
      " |-- teamid: integer (nullable = true)\n",
      " |-- firstblood: integer (nullable = true)\n",
      " |-- firsttower: integer (nullable = true)\n",
      " |-- firstinhib: integer (nullable = true)\n",
      " |-- firstbaron: integer (nullable = true)\n",
      " |-- firstdragon: integer (nullable = true)\n",
      " |-- firstharry: integer (nullable = true)\n",
      " |-- towerkills: integer (nullable = true)\n",
      " |-- inhibkills: integer (nullable = true)\n",
      " |-- baronkills: integer (nullable = true)\n",
      " |-- dragonkills: integer (nullable = true)\n",
      " |-- harrykills: integer (nullable = true)\n",
      "\n"
     ]
    }
   ],
   "source": [
    "teamstats = spark.read.parquet(f\"{output_data}/teamstats\")\n",
    "\n",
    "teamstats.printSchema()\n",
    "\n",
    "teamstats = teamstats.withColumnRenamed(\"matchid\",\"team_stats_match_id\")\n",
    "#teambans = spark.read.parquet(f\"{output_data}/teambans.parquet\")"
   ]
  },
  {
   "cell_type": "code",
   "execution_count": null,
   "metadata": {
    "editable": true
   },
   "outputs": [],
   "source": []
  },
  {
   "cell_type": "code",
   "execution_count": 60,
   "metadata": {
    "editable": true
   },
   "outputs": [
    {
     "name": "stdout",
     "output_type": "stream",
     "text": [
      "root\n",
      " |-- description: string (nullable = true)\n",
      " |-- map: string (nullable = true)\n",
      " |-- notes: string (nullable = true)\n",
      " |-- queueId: integer (nullable = true)\n",
      "\n"
     ]
    }
   ],
   "source": [
    "queues = spark.read.parquet(f\"{output_data}/queues\")\n",
    "\n",
    "queues.printSchema()\n",
    "\n",
    "queues = queues.withColumnRenamed(\"queueId\",\"queue_id\")"
   ]
  },
  {
   "cell_type": "code",
   "execution_count": 33,
   "metadata": {
    "editable": true
   },
   "outputs": [],
   "source": [
    "teams_df = participants.join(stats, ([participants.participants_id == stats.stats_id]), \"left\")"
   ]
  },
  {
   "cell_type": "code",
   "execution_count": 34,
   "metadata": {
    "editable": true
   },
   "outputs": [],
   "source": [
    "#teams_df = teams_df.join(matches, ([teams_df.matchid == matches.match_id]), \"left\")"
   ]
  },
  {
   "cell_type": "code",
   "execution_count": 35,
   "metadata": {
    "editable": true
   },
   "outputs": [],
   "source": [
    "# create side team column from player column\n",
    "get_side_team = udf(lambda x: 'Blue' if x <= 5 else 'Red', Str())\n",
    "\n",
    "teams_df = teams_df.withColumn(\"team_side\", get_side_team(col(\"player\")))"
   ]
  },
  {
   "cell_type": "code",
   "execution_count": 36,
   "metadata": {
    "editable": true
   },
   "outputs": [],
   "source": [
    "count_players = teams_df.groupBy(\"matchid\").count().withColumnRenamed('matchid', 'count_match_id')"
   ]
  },
  {
   "cell_type": "code",
   "execution_count": 37,
   "metadata": {
    "editable": true
   },
   "outputs": [],
   "source": [
    "teams_df = teams_df.join(count_players, ([teams_df.matchid == count_players.count_match_id]), \"left\")"
   ]
  },
  {
   "cell_type": "code",
   "execution_count": 38,
   "metadata": {
    "editable": true
   },
   "outputs": [],
   "source": [
    "teams_df = teams_df.filter(teams_df['count'] == 10)"
   ]
  },
  {
   "cell_type": "code",
   "execution_count": 39,
   "metadata": {
    "editable": true
   },
   "outputs": [],
   "source": [
    "#teams_df.filter(teams_df['duration'].isNotNull()).count()"
   ]
  },
  {
   "cell_type": "code",
   "execution_count": 40,
   "metadata": {
    "editable": true
   },
   "outputs": [
    {
     "data": {
      "text/plain": [
       "1825280"
      ]
     },
     "execution_count": 40,
     "metadata": {},
     "output_type": "execute_result"
    }
   ],
   "source": [
    "teams_df.count()"
   ]
  },
  {
   "cell_type": "code",
   "execution_count": 41,
   "metadata": {
    "editable": true
   },
   "outputs": [],
   "source": [
    "teams_df = teams_df.groupBy('team_side', 'matchid', 'win').agg(\\\n",
    "    sum('kills').alias('total_kills'), \\\n",
    "    sum('deaths').alias('total_deaths'), \\\n",
    "    sum('assists').alias('total_assists'), \\\n",
    "    sum('doublekills').alias('total_doublekills'), \\\n",
    "    sum('triplekills').alias('total_triplekills'), \\\n",
    "    sum('quadrakills').alias('total_quadrakills'), \\\n",
    "    sum('pentakills').alias('total_pentakills'), \\\n",
    "    sum('totdmgdealt').alias('total_totdmgdealt'), \\\n",
    "    sum('magicdmgdealt').alias('total_magicdmgdealt'), \\\n",
    "    sum('physicaldmgdealt').alias('total_physicaldmgdealt'), \\\n",
    "    sum('truedmgdealt').alias('total_truedmgdealt'), \\\n",
    "    sum('largestcrit').alias('total_largestcrit'), \\\n",
    "    sum('totdmgtochamp').alias('total_totdmgtochamp'), \\\n",
    "    sum('magicdmgtochamp').alias('total_magicdmgtochamp'), \\\n",
    "    sum('physdmgtochamp').alias('total_physdmgtochamp'), \\\n",
    "    sum('truedmgtochamp').alias('total_truedmgtochamp'), \\\n",
    "    sum('totheal').alias('total_totheal'), \\\n",
    "    sum('totunitshealed').alias('total_totunitshealed'), \\\n",
    "    sum('dmgselfmit').alias('total_dmgselfmit'), \\\n",
    "    sum('dmgtoobj').alias('total_dmgtoobj'), \\\n",
    "    sum('dmgtoturrets').alias('total_dmgtoturrets'), \\\n",
    "    sum('visionscore').alias('total_visionscore'), \\\n",
    "    sum('goldearned').alias('total_goldearned'), \\\n",
    "    sum('goldspent').alias('total_goldspent'), \\\n",
    "    sum('totminionskilled').alias('total_totminionskilled'), \\\n",
    "    sum('neutralminionskilled').alias('total_neutralminionskilled'), \\\n",
    "    sum('pinksbought').alias('total_pinksbought'), \\\n",
    "    sum('wardsbought').alias('total_wardsbought'), \\\n",
    "    sum('wardsplaced').alias('total_wardsplaced'), \\\n",
    "    sum('wardskilled').alias('total_wardskilled'))"
   ]
  },
  {
   "cell_type": "code",
   "execution_count": 42,
   "metadata": {
    "editable": true
   },
   "outputs": [],
   "source": [
    "teams_df = teams_df.join(matches, ([teams_df.matchid == matches.match_id]), \"left\")"
   ]
  },
  {
   "cell_type": "code",
   "execution_count": 43,
   "metadata": {
    "editable": true
   },
   "outputs": [],
   "source": [
    "teams_df = teams_df.join(queues, ([teams_df.queueid == queues.queue_id]), \"left\")"
   ]
  },
  {
   "cell_type": "code",
   "execution_count": 44,
   "metadata": {
    "editable": true
   },
   "outputs": [],
   "source": [
    "# transform teamid to BLue(100) or Red(200) to join dataframes\n",
    "get_side_team_by_id = udf(lambda x: 'Blue' if int(x) == 100 else 'Red', Str())\n",
    "\n",
    "teamstats = teamstats.withColumn(\"side_team\", get_side_team_by_id(col(\"teamid\")))"
   ]
  },
  {
   "cell_type": "code",
   "execution_count": 45,
   "metadata": {
    "editable": true
   },
   "outputs": [],
   "source": [
    "teams_df = teams_df.join(teamstats, ([teams_df.matchid == teamstats.team_stats_match_id,\n",
    "                                     teams_df.team_side == teamstats.side_team]), \"left\")"
   ]
  },
  {
   "cell_type": "code",
   "execution_count": 46,
   "metadata": {
    "editable": true
   },
   "outputs": [
    {
     "data": {
      "text/plain": [
       "365057"
      ]
     },
     "execution_count": 46,
     "metadata": {},
     "output_type": "execute_result"
    }
   ],
   "source": [
    "teams_df.filter(teams_df['creation'].isNotNull()).count()"
   ]
  },
  {
   "cell_type": "code",
   "execution_count": 47,
   "metadata": {
    "editable": true
   },
   "outputs": [],
   "source": [
    "# create match_date column from original timestamp creation column\n",
    "get_timestamp = udf(lambda x: datetime.fromtimestamp(x / 1000), TS())\n",
    "teams_df = teams_df.withColumn(\"create_match_date\", get_timestamp(col(\"creation\")))\n",
    "\n",
    "# extract columns to create time table\n",
    "teams_df = teams_df.withColumn(\"create_match_hour\", hour(\"create_match_date\"))\n",
    "teams_df = teams_df.withColumn(\"create_match_day\", dayofmonth(\"create_match_date\"))\n",
    "teams_df = teams_df.withColumn(\"create_match_month\", month(\"create_match_date\"))\n",
    "teams_df = teams_df.withColumn(\"create_match_year\", year(\"create_match_date\"))"
   ]
  },
  {
   "cell_type": "code",
   "execution_count": 48,
   "metadata": {
    "editable": true
   },
   "outputs": [
    {
     "name": "stdout",
     "output_type": "stream",
     "text": [
      "+-----------------+\n",
      "|create_match_year|\n",
      "+-----------------+\n",
      "|             2015|\n",
      "|             2014|\n",
      "|             2016|\n",
      "|             2017|\n",
      "+-----------------+\n",
      "\n"
     ]
    }
   ],
   "source": [
    "teams_df.select('create_match_year').distinct().show()"
   ]
  },
  {
   "cell_type": "code",
   "execution_count": 49,
   "metadata": {
    "editable": true
   },
   "outputs": [],
   "source": [
    "#teams_df.write.partitionBy(\"create_match_year\", \"create_match_month\").parquet(f\"{output_data}/players_statistics_per_match/\")"
   ]
  },
  {
   "cell_type": "code",
   "execution_count": 50,
   "metadata": {
    "editable": true
   },
   "outputs": [],
   "source": [
    "teams_df = teams_df.drop('side_team', 'match_id', 'queue_id', 'teamid')"
   ]
  },
  {
   "cell_type": "code",
   "execution_count": 52,
   "metadata": {
    "editable": true
   },
   "outputs": [
    {
     "name": "stdout",
     "output_type": "stream",
     "text": [
      "root\n",
      " |-- team_side: string (nullable = true)\n",
      " |-- matchid: integer (nullable = true)\n",
      " |-- win: integer (nullable = true)\n",
      " |-- total_kills: long (nullable = true)\n",
      " |-- total_deaths: long (nullable = true)\n",
      " |-- total_assists: long (nullable = true)\n",
      " |-- total_doublekills: long (nullable = true)\n",
      " |-- total_triplekills: long (nullable = true)\n",
      " |-- total_quadrakills: long (nullable = true)\n",
      " |-- total_pentakills: long (nullable = true)\n",
      " |-- total_totdmgdealt: long (nullable = true)\n",
      " |-- total_magicdmgdealt: long (nullable = true)\n",
      " |-- total_physicaldmgdealt: long (nullable = true)\n",
      " |-- total_truedmgdealt: long (nullable = true)\n",
      " |-- total_largestcrit: long (nullable = true)\n",
      " |-- total_totdmgtochamp: long (nullable = true)\n",
      " |-- total_magicdmgtochamp: long (nullable = true)\n",
      " |-- total_physdmgtochamp: long (nullable = true)\n",
      " |-- total_truedmgtochamp: long (nullable = true)\n",
      " |-- total_totheal: long (nullable = true)\n",
      " |-- total_totunitshealed: long (nullable = true)\n",
      " |-- total_dmgselfmit: long (nullable = true)\n",
      " |-- total_dmgtoobj: long (nullable = true)\n",
      " |-- total_dmgtoturrets: long (nullable = true)\n",
      " |-- total_visionscore: long (nullable = true)\n",
      " |-- total_goldearned: long (nullable = true)\n",
      " |-- total_goldspent: long (nullable = true)\n",
      " |-- total_totminionskilled: long (nullable = true)\n",
      " |-- total_neutralminionskilled: long (nullable = true)\n",
      " |-- total_pinksbought: long (nullable = true)\n",
      " |-- total_wardsbought: double (nullable = true)\n",
      " |-- total_wardsplaced: long (nullable = true)\n",
      " |-- total_wardskilled: long (nullable = true)\n",
      " |-- gameid: string (nullable = true)\n",
      " |-- platformid: string (nullable = true)\n",
      " |-- queueid: integer (nullable = true)\n",
      " |-- seasonid: integer (nullable = true)\n",
      " |-- duration: double (nullable = true)\n",
      " |-- creation: double (nullable = true)\n",
      " |-- version: string (nullable = true)\n",
      " |-- description: string (nullable = true)\n",
      " |-- map: string (nullable = true)\n",
      " |-- notes: string (nullable = true)\n",
      " |-- team_stats_match_id: integer (nullable = true)\n",
      " |-- firstblood: integer (nullable = true)\n",
      " |-- firsttower: integer (nullable = true)\n",
      " |-- firstinhib: integer (nullable = true)\n",
      " |-- firstbaron: integer (nullable = true)\n",
      " |-- firstdragon: integer (nullable = true)\n",
      " |-- firstharry: integer (nullable = true)\n",
      " |-- towerkills: integer (nullable = true)\n",
      " |-- inhibkills: integer (nullable = true)\n",
      " |-- baronkills: integer (nullable = true)\n",
      " |-- dragonkills: integer (nullable = true)\n",
      " |-- harrykills: integer (nullable = true)\n",
      " |-- create_match_date: timestamp (nullable = true)\n",
      " |-- create_match_hour: integer (nullable = true)\n",
      " |-- create_match_day: integer (nullable = true)\n",
      " |-- create_match_month: integer (nullable = true)\n",
      " |-- create_match_year: integer (nullable = true)\n",
      "\n"
     ]
    }
   ],
   "source": [
    "teams_df.printSchema()"
   ]
  },
  {
   "cell_type": "code",
   "execution_count": 51,
   "metadata": {
    "editable": true
   },
   "outputs": [
    {
     "data": {
      "text/plain": [
       "'data_source/parquet_files'"
      ]
     },
     "execution_count": 51,
     "metadata": {},
     "output_type": "execute_result"
    }
   ],
   "source": [
    "output_data"
   ]
  },
  {
   "cell_type": "code",
   "execution_count": 69,
   "metadata": {
    "editable": true
   },
   "outputs": [
    {
     "name": "stdout",
     "output_type": "stream",
     "text": [
      "root\n",
      " |-- duration: long (nullable = true)\n",
      " |-- creation: long (nullable = true)\n",
      " |-- team_side: string (nullable = true)\n",
      " |-- matchid: long (nullable = true)\n",
      " |-- win: long (nullable = true)\n",
      " |-- gameid: long (nullable = true)\n",
      "\n"
     ]
    }
   ],
   "source": [
    "teams_df.select('duration', 'creation', 'team_side', 'matchid',  'win', 'gameid').printSchema()"
   ]
  },
  {
   "cell_type": "code",
   "execution_count": 70,
   "metadata": {
    "editable": true
   },
   "outputs": [
    {
     "name": "stdout",
     "output_type": "stream",
     "text": [
      "+--------+-------------+---------+-------+---+----------+\n",
      "|duration|     creation|team_side|matchid|win|    gameid|\n",
      "+--------+-------------+---------+-------+---+----------+\n",
      "|    2045|1494521072459|      Red|     26|  0|3179228168|\n",
      "|    2045|1494521072459|     Blue|     26|  1|3179228168|\n",
      "|    2557|1494510773735|     Blue|     29|  1|3179074023|\n",
      "|    2557|1494510773735|      Red|     29|  0|3179074023|\n",
      "|    2427|1483835559537|      Red|    474|  0|3008614130|\n",
      "+--------+-------------+---------+-------+---+----------+\n",
      "only showing top 5 rows\n",
      "\n"
     ]
    }
   ],
   "source": [
    "teams_df.filter(teams_df['duration'].isNotNull()).select('duration', 'creation', 'team_side','matchid','win', 'gameid').show(5)"
   ]
  },
  {
   "cell_type": "code",
   "execution_count": null,
   "metadata": {
    "editable": true
   },
   "outputs": [],
   "source": [
    "duration, creation, team_side, participants_id, matchid, championid, win, gameid"
   ]
  },
  {
   "cell_type": "code",
   "execution_count": 36,
   "metadata": {
    "editable": true
   },
   "outputs": [],
   "source": [
    "agg_columns = ['kills', 'deaths', 'assists', 'doublekills', 'triplekills', 'quadrakills', 'pentakills',\n",
    "                'totdmgdealt', 'magicdmgdealt', 'physicaldmgdealt', 'truedmgdealt', 'largestcrit', 'totdmgtochamp',\n",
    "                'magicdmgtochamp', 'physdmgtochamp', 'truedmgtochamp', 'totheal', 'totunitshealed', 'dmgselfmit',\n",
    "                'dmgtoobj', 'dmgtoturrets', 'visionscore', 'goldearned', 'goldspent', 'totminionskilled', \n",
    "                'neutralminionskilled', 'pinksbought', 'wardsbought', 'wardsplaced', 'wardskilled']\n",
    "\n",
    "#df.groupBy(df(\"age\")).agg(first(\"name\"), first(\"some other col to includel\"), ...)"
   ]
  },
  {
   "cell_type": "code",
   "execution_count": 157,
   "metadata": {
    "editable": true
   },
   "outputs": [
    {
     "name": "stdout",
     "output_type": "stream",
     "text": [
      "+-------+----------+---------+---+-----+\n",
      "|matchid|    gameid|team_side|win|count|\n",
      "+-------+----------+---------+---+-----+\n",
      "|   1580|2132065859|     Blue|  1|    5|\n",
      "|   1580|2132065859|      Red|  0|    5|\n",
      "|   1591|1964812748|     Blue|  0|    5|\n",
      "|   1591|1964812748|      Red|  1|    5|\n",
      "|   1645|1932609680|     Blue|  1|    5|\n",
      "+-------+----------+---------+---+-----+\n",
      "only showing top 5 rows\n",
      "\n"
     ]
    }
   ],
   "source": [
    "teams_df.groupBy('matchid', 'gameid', 'team_side', 'win').count().show(5)"
   ]
  },
  {
   "cell_type": "code",
   "execution_count": 132,
   "metadata": {
    "editable": true
   },
   "outputs": [
    {
     "name": "stdout",
     "output_type": "stream",
     "text": [
      "+---------------+-------+------+----------+---+---+-----------+--------+--------+---+-----+-----+-----+-----+-----+-----+-------+-----+------+-------+-------------------+----------------+-------------+----------------------+-----------+-----------+-----------+----------+--------------+-----------+-------------+----------------+------------+-----------+-------------+---------------+--------------+--------------+-------+--------------+----------+--------+------------+-----------+------+-----------+-------------+------------+------------+----------+---------+-----------+----------+----------------+--------------------+--------------+----------------+--------------+--------+-----------+-----------+-----------+-----------+----------+--------+------+----------+-------+--------+--------+--------+-------+---------+-------+-----+\n",
      "|participants_id|matchid|player|championid|ss1|ss2|       role|position|stats_id|win|item1|item2|item3|item4|item5|item6|trinket|kills|deaths|assists|largestkillingspree|largestmultikill|killingsprees|longesttimespentliving|doublekills|triplekills|quadrakills|pentakills|legendarykills|totdmgdealt|magicdmgdealt|physicaldmgdealt|truedmgdealt|largestcrit|totdmgtochamp|magicdmgtochamp|physdmgtochamp|truedmgtochamp|totheal|totunitshealed|dmgselfmit|dmgtoobj|dmgtoturrets|visionscore|timecc|totdmgtaken|magicdmgtaken|physdmgtaken|truedmgtaken|goldearned|goldspent|turretkills|inhibkills|totminionskilled|neutralminionskilled|ownjunglekills|enemyjunglekills|totcctimedealt|champlvl|pinksbought|wardsbought|wardsplaced|wardskilled|firstblood|match_id|gameid|platformid|queueid|seasonid|duration|creation|version|team_side|matchid|count|\n",
      "+---------------+-------+------+----------+---+---+-----------+--------+--------+---+-----+-----+-----+-----+-----+-----+-------+-----+------+-------+-------------------+----------------+-------------+----------------------+-----------+-----------+-----------+----------+--------------+-----------+-------------+----------------+------------+-----------+-------------+---------------+--------------+--------------+-------+--------------+----------+--------+------------+-----------+------+-----------+-------------+------------+------------+----------+---------+-----------+----------+----------------+--------------------+--------------+----------------+--------------+--------+-----------+-----------+-----------+-----------+----------+--------+------+----------+-------+--------+--------+--------+-------+---------+-------+-----+\n",
      "|            148|     23|    10|        40|  4|  3|DUO_SUPPORT|     BOT|     148|  0| 3301| 2031| 3117| 3504|    0|    0|   3340|    0|     6|      5|                  0|               0|            0|                   614|          0|          0|          0|         0|             0|      11474|         9237|            2237|           0|          0|         1980|           1376|           603|             0|    552|             7|         0|       0|           0|          0|     0|       8931|         1895|        6931|         104|      4863|     3850|          0|         0|               4|                   1|             1|               0|           108|      10|          0|          0|          7|          0|         0|    null|  null|      null|   null|    null|    null|    null|   null|      Red|     23|   10|\n",
      "|            463|     55|     5|       117|  3|  4|DUO_SUPPORT|     BOT|     463|  1| 2301| 3190| 3107|    0| 3117| 3801|   3364|    0|     4|     22|                  0|               0|            0|                   918|          0|          0|          0|         0|             0|      11940|         8000|            2703|        1236|          0|         3782|           2051|           709|          1022|   3763|             9|     10264|    1328|         611|         31|     0|      16584|         6301|       10161|         122|     10125|     8675|          0|         0|              10|                   0|             0|               0|           276|      14|          3|          0|         18|          3|         0|    null|  null|      null|   null|    null|    null|    null|   null|     Blue|     55|   10|\n",
      "|            471|     56|     3|       122|  4| 12|       SOLO|     TOP|     471|  0| 1054| 2003|    0|    0|    0|    0|   3340|    0|     0|      0|                  0|               0|            0|                     0|          0|          0|          0|         0|             0|       4131|           48|            4082|           0|          0|          806|             48|           758|             0|     84|             1|       442|       0|           0|          0|     0|       1016|            0|        1016|           0|       865|      500|          0|         0|              11|                   0|             0|               0|            14|       3|          0|          0|          0|          0|         0|    null|  null|      null|   null|    null|    null|    null|   null|     Blue|     56|   10|\n",
      "|            496|     58|     8|       111|  3|  4|DUO_SUPPORT|     BOT|     496|  1| 3107| 3190| 2303| 2055| 3117| 1028|   3364|    2|     2|     16|                  2|               1|            1|                   867|          0|          0|          0|         0|             0|      33244|        18975|            8283|        5985|          0|         9113|           6080|          2419|           613|   4263|             7|      1413|       0|        1821|          0|     0|      13856|         6547|        7076|         232|     10599|     9850|          0|         0|              37|                   0|             0|               0|           277|      15|          8|          0|         31|          9|         0|    null|  null|      null|   null|    null|    null|    null|   null|      Red|     58|   10|\n",
      "|            833|     92|     5|       143|  4| 14|DUO_SUPPORT|     BOT|     833|  1| 3116| 2049| 3092| 3020| 1026|    0|   3341|    5|     2|     12|                  3|               1|            1|                   838|          0|          0|          0|         0|             0|      50698|        43239|            6687|         772|          0|        18427|          16617|          1038|           772|   1793|             3|       123|       0|        1482|          0|     0|       8328|         3188|        5139|           0|      9553|     7825|          0|         0|              34|                   0|             0|               0|           276|      13|          1|          0|          9|          1|         0|    null|  null|      null|   null|    null|    null|    null|   null|     Blue|     92|   10|\n",
      "|           1088|    117|    10|        35| 11| 14|       NONE|  JUNGLE|    1088|  0| 3715| 3117| 3155| 3077| 3078| 1036|   3340|    5|     7|      4|                  3|               1|            1|                   618|          0|          0|          0|         0|             0|      85869|        20243|           57834|        7792|        389|        10360|           5896|          3393|          1070|   5335|             1|         0|       0|           0|          0|     0|      24961|         9264|       14809|         888|      8813|     8733|          0|         0|              49|                  41|            25|              16|           858|      13|          0|          0|          5|          0|         0|    null|  null|      null|   null|    null|    null|    null|   null|      Red|    117|   10|\n",
      "|           1238|    132|    10|       236|  7|  4|  DUO_CARRY|     BOT|    1238|  0| 3153| 3508| 3078| 3006| 1042|    0|   3363|    7|     7|      6|                  3|               1|            2|                   644|          0|          0|          0|         0|             0|     132786|         5006|          127780|           0|        686|        16786|           1132|         15654|             0|   3907|             3|         0|       0|           0|          0|     0|      20955|         8768|       12058|         129|     12685|    12533|          1|         0|             234|                   1|             1|               0|            23|      15|          0|          0|          8|          6|         0|    null|  null|      null|   null|    null|    null|    null|   null|      Red|    132|   10|\n",
      "|           1342|    143|     4|       103|  4| 21|       SOLO|     MID|    1342|  1| 3151| 3165| 3020| 3089|    0|    0|   3340|    7|     8|     11|                  3|               2|            2|                   513|          1|          0|          0|         0|             0|      95505|        55974|           13333|       26197|          0|        21444|          15180|          1680|          4583|   2688|             1|         0|       0|           0|          0|     0|      19024|        11393|        7125|         506|     11898|    11450|          0|         0|             130|                   3|             0|               3|            44|      15|          0|          0|          5|          1|         0|    null|  null|      null|   null|    null|    null|    null|   null|     Blue|    143|   10|\n",
      "|           1580|    167|     2|        24|  4| 14|       SOLO|     TOP|    1580|  0| 3111| 2033| 1043| 3155| 3053| 1042|   3340|    5|     5|      1|                  3|               2|            1|                   209|          1|          0|          0|         0|             0|      84921|        17279|           66961|         680|          0|        10420|           2584|          7299|           536|    343|             1|         0|       0|           0|          0|     0|      12782|         4466|        6676|        1639|      8146|     6875|          0|         0|             121|                  12|            11|               1|            73|      13|          1|          0|          5|          0|         0|    null|  null|      null|   null|    null|    null|    null|   null|     Blue|    167|   10|\n",
      "|           1591|    168|     3|        25|  4|  3|DUO_SUPPORT|     BOT|    1591|  1| 3157| 3107| 3092| 3117| 3105| 2045|   3341|    2|     5|     25|                  2|               2|            1|                   580|          1|          0|          0|         0|             0|      49178|        37600|            9411|        2165|          0|        20905|          18153|          2086|           665|   6618|             8|         0|       0|           0|          0|     0|      24662|         6768|       16787|        1106|     12332|    11150|          1|         0|              36|                   0|             0|               0|           180|      15|          2|          0|         20|          5|         0|    null|  null|      null|   null|    null|    null|    null|   null|     Blue|    168|   10|\n",
      "|           1645|    173|     7|        96|  4|  7|  DUO_CARRY|     BOT|    1645|  0| 3153| 3047| 1055| 1043| 1042|    0|   3363|    2|     6|      3|                  2|               1|            1|                   396|          0|          0|          0|         0|             0|      54240|        11845|           39325|        3068|        276|        12295|           4877|          4677|          2740|   1804|             3|         0|       0|           0|          0|     0|      11171|         4197|        6724|         250|      7210|     6250|          0|         0|             140|                   1|             1|               0|           106|      11|          0|          0|          7|          0|         0|    null|  null|      null|   null|    null|    null|    null|   null|      Red|    173|   10|\n",
      "|           1829|    192|     1|        22|  4|  7|  DUO_CARRY|     BOT|    1829|  1| 3072| 3085| 3006| 3086| 1042| 1042|   3340|    4|     2|      4|                  2|               2|            2|                  1254|          2|          0|          0|         0|             0|      95751|          717|           93883|        1150|        230|         7665|            614|          7050|             0|   1394|             3|         0|       0|           0|          0|     0|      10246|         3046|        7199|           0|     11019|     9900|          2|         1|             151|                   1|             0|               1|          1596|      13|          0|          0|          7|          2|         0|    null|  null|      null|   null|    null|    null|    null|   null|     Blue|    192|   10|\n",
      "|           1959|    205|     1|       412|  4| 12|       SOLO|     TOP|    1959|  1| 3031| 3087| 3742| 3022| 1036| 3006|   3340|   10|     5|     13|                  5|               2|            3|                   647|          1|          0|          0|         0|             0|     143688|        91704|           51983|           0|        589|        24354|          17731|          6622|             0|   5347|             1|         0|       0|           0|          0|     0|      22243|        11579|       10068|         594|     14404|    14225|          2|         0|             190|                   5|             1|               4|           197|      17|          1|          0|         13|          0|         1|    null|  null|      null|   null|    null|    null|    null|   null|     Blue|    205|   10|\n",
      "|           2122|    221|     4|       238|  3| 14|       SOLO|     MID|    2122|  1| 2003| 3142| 3158| 3071| 3147| 3035|   3340|    9|     7|     16|                  3|               1|            1|                   482|          0|          0|          0|         0|             0|     135663|        10100|          123917|        1646|          0|        27453|           4007|         21980|          1466|   5480|             1|         0|       0|           0|          0|     0|      31072|        11913|       18751|         408|     13953|    12545|          0|         0|             167|                   4|             2|               2|           200|      18|          0|          0|          7|          2|         0|    null|  null|      null|   null|    null|    null|    null|   null|     Blue|    221|   10|\n",
      "|           2142|    223|     4|         5|  4| 11|       NONE|  JUNGLE|    2142|  1| 3153| 3065| 1043|    0| 1419| 3111|   3340|    8|     6|      6|                  3|               2|            2|                   718|          1|          0|          0|         0|             0|     116232|        10333|           97684|        8214|        400|        17790|           2701|         14147|           942|  11731|             1|         0|       0|           0|          0|     0|      28599|         8175|       20188|         234|     11573|    11475|          0|         1|              23|                  60|            34|              26|           757|      14|          0|          0|          9|          0|         0|    null|  null|      null|   null|    null|    null|    null|   null|     Blue|    223|   10|\n",
      "|           2366|    245|     8|       150|  4| 12|       SOLO|     TOP|    2366|  0| 1055| 3143| 1036| 3047| 1033|    0|   3340|    1|     3|      0|                  0|               1|            0|                   766|          0|          0|          0|         0|             0|      57578|         4702|           52876|           0|          0|         6804|           1671|          5133|             0|   1350|             1|         0|       0|           0|          0|     0|      13350|         2676|       10498|         176|      5470|     5300|          0|         0|             114|                   0|             0|               0|           555|      12|          0|          0|          2|          0|         0|    null|  null|      null|   null|    null|    null|    null|   null|      Red|    245|   10|\n",
      "|           2659|    275|     1|        12|  3|  4|DUO_SUPPORT|     BOT|    2659|  0| 3109| 3401| 3190| 3117| 2049| 3107|   3341|    3|     7|     16|                  2|               1|            1|                   742|          0|          0|          0|         0|             0|      49235|        32375|           11868|        4990|          0|         9740|           7412|          2081|           246|  11449|             5|         0|       0|           0|          0|     0|      34938|        10234|       23859|         844|     11019|    11075|          0|         0|              61|                   0|             0|               0|           229|      15|          1|          0|         27|          5|         0|    null|  null|      null|   null|    null|    null|    null|   null|     Blue|    275|   10|\n",
      "|           2866|    295|     8|       157|  4| 11|       NONE|  JUNGLE|    2866|  1| 1419| 2031| 3046| 1018| 3047|    0|   3340|    8|     3|      8|                  3|               3|            3|                   412|          2|          1|          0|         0|             0|      84999|         8733|           69036|        7229|        292|        11500|            946|          9996|           558|   3358|             1|         0|       0|           0|          0|     0|      12045|         3036|        8948|          60|      8701|     7300|          1|         0|              26|                  56|            32|              24|           676|      11|          1|          0|          7|          0|         0|    null|  null|      null|   null|    null|    null|    null|   null|      Red|    295|   10|\n",
      "|           3175|    326|     7|        63|  4|  3|        DUO|     BOT|    3175|  1| 3098| 3089| 1058| 3135| 3165| 3151|   3340|   13|    10|     16|                  4|               1|            2|                   477|          0|          0|          0|         0|             0|     113343|       100707|           11348|        1286|          0|        42988|          41033|          1583|           372|   3190|             1|         0|       0|           0|          0|     0|      26142|        10888|       14129|        1124|     16672|    16200|          0|         0|              82|                   3|             1|               2|           116|      18|          0|          0|         16|          0|         0|    null|  null|      null|   null|    null|    null|    null|   null|      Red|    326|   10|\n",
      "|           3749|    384|     1|        92| 12|  4|       SOLO|     TOP|    3749|  0| 1053| 3158| 3036| 3812| 3071| 3077|   3340|    7|    12|      3|                  2|               1|            1|                   742|          0|          0|          0|         0|             0|     150212|         2731|          147319|         160|          0|        21653|           1925|         19727|             0|   5040|             1|         0|       0|           0|          0|     0|      38616|        13822|       19226|        5567|     13760|    12450|          1|         0|             192|                  28|            17|              11|           142|      16|          0|          0|          6|          2|         0|    null|  null|      null|   null|    null|    null|    null|   null|     Blue|    384|   10|\n",
      "+---------------+-------+------+----------+---+---+-----------+--------+--------+---+-----+-----+-----+-----+-----+-----+-------+-----+------+-------+-------------------+----------------+-------------+----------------------+-----------+-----------+-----------+----------+--------------+-----------+-------------+----------------+------------+-----------+-------------+---------------+--------------+--------------+-------+--------------+----------+--------+------------+-----------+------+-----------+-------------+------------+------------+----------+---------+-----------+----------+----------------+--------------------+--------------+----------------+--------------+--------+-----------+-----------+-----------+-----------+----------+--------+------+----------+-------+--------+--------+--------+-------+---------+-------+-----+\n",
      "only showing top 20 rows\n",
      "\n"
     ]
    }
   ],
   "source": [
    "counts = teams_df.groupBy(\"matchid\").count().withColumn\n",
    "teams_df.alias(\"df\").join(counts, col(\"df.matchid\") == col(\"counts.matchid\")\n",
    "\n",
    "teams_df.join(\n",
    "    broadcast(counts), teams_df.matchid == counts.matchid).show()\n",
    "\n",
    "teams_df.join(counts, ([counts.matchid == teams_df.matchid]), \"left\")"
   ]
  },
  {
   "cell_type": "code",
   "execution_count": null,
   "metadata": {
    "editable": true
   },
   "outputs": [],
   "source": []
  },
  {
   "cell_type": "code",
   "execution_count": 97,
   "metadata": {
    "editable": true
   },
   "outputs": [
    {
     "data": {
      "text/plain": [
       "DataFrame[matchid: int, team_side: string, count: bigint]"
      ]
     },
     "execution_count": 97,
     "metadata": {},
     "output_type": "execute_result"
    }
   ],
   "source": [
    "teams_df.groupBy('matchid', 'team_side').count().show"
   ]
  },
  {
   "cell_type": "code",
   "execution_count": null,
   "metadata": {
    "editable": true
   },
   "outputs": [],
   "source": [
    "teams_df['team'] = df['player'].apply(lambda x: '1' if x <= 5 else '2')"
   ]
  },
  {
   "cell_type": "code",
   "execution_count": 82,
   "metadata": {
    "editable": true
   },
   "outputs": [
    {
     "data": {
      "text/plain": [
       "DataFrame[matchid: int, sum(participants_id): bigint, sum(matchid): bigint, sum(player): bigint, sum(championid): bigint, sum(ss1): bigint, sum(ss2): bigint, sum(stats_id): bigint, sum(win): bigint, sum(item1): bigint, sum(item2): bigint, sum(item3): bigint, sum(item4): bigint, sum(item5): bigint, sum(item6): bigint, sum(trinket): bigint, sum(kills): bigint, sum(deaths): bigint, sum(assists): bigint, sum(largestkillingspree): bigint, sum(largestmultikill): bigint, sum(killingsprees): bigint, sum(longesttimespentliving): bigint, sum(doublekills): bigint, sum(triplekills): bigint, sum(quadrakills): bigint, sum(pentakills): bigint, sum(legendarykills): bigint, sum(totdmgdealt): bigint, sum(magicdmgdealt): bigint, sum(physicaldmgdealt): bigint, sum(truedmgdealt): bigint, sum(largestcrit): bigint, sum(totdmgtochamp): bigint, sum(magicdmgtochamp): bigint, sum(physdmgtochamp): bigint, sum(truedmgtochamp): bigint, sum(totheal): bigint, sum(totunitshealed): bigint, sum(dmgselfmit): bigint, sum(dmgtoobj): bigint, sum(dmgtoturrets): bigint, sum(visionscore): bigint, sum(timecc): bigint, sum(totdmgtaken): bigint, sum(magicdmgtaken): bigint, sum(physdmgtaken): bigint, sum(truedmgtaken): bigint, sum(goldearned): bigint, sum(goldspent): bigint, sum(turretkills): bigint, sum(inhibkills): bigint, sum(totminionskilled): bigint, sum(neutralminionskilled): bigint, sum(ownjunglekills): bigint, sum(enemyjunglekills): bigint, sum(totcctimedealt): bigint, sum(champlvl): bigint, sum(pinksbought): bigint, sum(wardsbought): bigint, sum(wardsplaced): bigint, sum(wardskilled): bigint, sum(firstblood): bigint, sum(match_id): bigint, sum(gameid): bigint, sum(queueid): bigint, sum(seasonid): bigint, sum(duration): double, sum(creation): double]"
      ]
     },
     "execution_count": 82,
     "metadata": {},
     "output_type": "execute_result"
    }
   ],
   "source": [
    "teams_df.groupBy('matchid').sum()"
   ]
  },
  {
   "cell_type": "code",
   "execution_count": null,
   "metadata": {
    "editable": true
   },
   "outputs": [],
   "source": [
    "stats.groupBy('')"
   ]
  },
  {
   "cell_type": "markdown",
   "metadata": {
    "editable": true
   },
   "source": [
    "# Analysis"
   ]
  },
  {
   "cell_type": "code",
   "execution_count": null,
   "metadata": {
    "editable": true
   },
   "outputs": [],
   "source": []
  }
 ],
 "metadata": {
  "kernelspec": {
   "display_name": "Python 3",
   "language": "python",
   "name": "python3"
  },
  "language_info": {
   "codemirror_mode": {
    "name": "ipython",
    "version": 3
   },
   "file_extension": ".py",
   "mimetype": "text/x-python",
   "name": "python",
   "nbconvert_exporter": "python",
   "pygments_lexer": "ipython3",
   "version": "3.6.3"
  }
 },
 "nbformat": 4,
 "nbformat_minor": 4
}
