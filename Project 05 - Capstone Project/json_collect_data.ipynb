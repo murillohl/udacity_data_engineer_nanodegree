{
 "cells": [
  {
   "cell_type": "code",
   "execution_count": 1,
   "metadata": {
    "editable": true
   },
   "outputs": [],
   "source": [
    "import pandas as pd\n",
    "import boto3\n",
    "import json\n",
    "import requests"
   ]
  },
  {
   "cell_type": "markdown",
   "metadata": {
    "editable": true
   },
   "source": [
    "# Collecting dimensions Tables from Riot Developer API"
   ]
  },
  {
   "cell_type": "code",
   "execution_count": 2,
   "metadata": {
    "editable": true
   },
   "outputs": [],
   "source": [
    "response = requests.get('https://static.developer.riotgames.com/docs/lol/seasons.json')\n",
    "\n",
    "seasons = pd.DataFrame.from_dict(response.json())\n",
    "\n",
    "seasons.to_csv(r'Riot Matches/seasons.csv', index=False)"
   ]
  },
  {
   "cell_type": "code",
   "execution_count": 3,
   "metadata": {
    "editable": true
   },
   "outputs": [],
   "source": [
    "response = requests.get('https://static.developer.riotgames.com/docs/lol/queues.json')\n",
    "\n",
    "queues = pd.DataFrame.from_dict(response.json())\n",
    "\n",
    "queues.to_csv(r'Riot Matches/queues.csv', index=False)"
   ]
  },
  {
   "cell_type": "code",
   "execution_count": 4,
   "metadata": {
    "editable": true
   },
   "outputs": [],
   "source": [
    "url = 'https://static.developer.riotgames.com/docs/lol/maps.json'\n",
    "\n",
    "response = requests.get(url)\n",
    "\n",
    "maps = pd.DataFrame.from_dict(response.json())\n",
    "\n",
    "maps.to_csv(r'Riot Matches/maps.csv', index=False)"
   ]
  },
  {
   "cell_type": "code",
   "execution_count": 5,
   "metadata": {
    "editable": true
   },
   "outputs": [],
   "source": [
    "url = 'https://static.developer.riotgames.com/docs/lol/gameModes.json'\n",
    "\n",
    "response = requests.get(url)\n",
    "\n",
    "gameModes = pd.DataFrame.from_dict(response.json())\n",
    "\n",
    "gameModes.to_csv(r'Riot Matches/gameModes.csv', index=False)"
   ]
  }
 ],
 "metadata": {
  "kernelspec": {
   "display_name": "Python 3",
   "language": "python",
   "name": "python3"
  },
  "language_info": {
   "codemirror_mode": {
    "name": "ipython",
    "version": 3
   },
   "file_extension": ".py",
   "mimetype": "text/x-python",
   "name": "python",
   "nbconvert_exporter": "python",
   "pygments_lexer": "ipython3",
   "version": "3.6.3"
  }
 },
 "nbformat": 4,
 "nbformat_minor": 4
}
